{
 "cells": [
  {
   "cell_type": "markdown",
   "id": "35e51e8a",
   "metadata": {},
   "source": [
    "## Exploring Hackers News Posts\n",
    "\n",
    "In this project, we'll compare two different types of posts from Hacker News, a popular site where technology related stories (or 'posts') are voted and commented upon. The two types of posts we'll explore begin with either Ask HN or Show HN.\n",
    "\n",
    "Users submit Ask HN posts to ask the Hacker News community a specific question. Likewise, users submit Show HN posts to show the Hacker News community a project, product, or just generally something interesting.\n",
    "\n",
    "We'll specifically compare these two types of posts to determine the following:\n",
    "\n",
    "Do Ask HN or Show HN receive more comments on average?\n",
    "Do posts created at a certain time receive more comments on average?\n",
    "\n",
    "The data set we're working with was reduced to approximately 20,000 rows by removing all submissions that did not receive any comments, and then randomly sampling from the remaining submissions."
   ]
  },
  {
   "cell_type": "markdown",
   "id": "daee10ad",
   "metadata": {},
   "source": [
    "### Introduction\n",
    "\n",
    "First, we'll read in the data and remove the headers."
   ]
  },
  {
   "cell_type": "code",
   "execution_count": 1,
   "id": "e1ea73f7",
   "metadata": {},
   "outputs": [
    {
     "name": "stdout",
     "output_type": "stream",
     "text": [
      "['id', 'title', 'url', 'num_points', 'num_comments', 'author', 'created_at', 'samples']\n",
      "\n",
      "\n",
      "['11966167', 'UK votes to leave EU', 'http://www.bbc.co.uk/news/uk-politics-36615028', '3125', '2531', 'dmmalam', '6/24/2016 3:48', '1']\n",
      "\n",
      "\n",
      "['11814828', 'Ask HN: Who is hiring? (June 2016)', '', '644', '1007', 'whoishiring', '6/1/2016 15:01', '1']\n",
      "\n",
      "\n",
      "['11611867', 'Ask HN: Who is hiring? (May 2016)', '', '553', '937', 'whoishiring', '5/2/2016 15:01', '1']\n",
      "\n",
      "\n",
      "['11939851', 'Alan Kay has agreed to do an AMA today', '', '1401', '893', 'alankay1', '6/20/2016 18:04', '1']\n",
      "\n",
      "\n"
     ]
    }
   ],
   "source": [
    "from csv import reader\n",
    "opened_file = open('hacker_news.csv', \"rt\",encoding=\"utf-8\")\n",
    "readed_file = reader(opened_file)\n",
    "hn = list(readed_file)\n",
    "for row in hn[:5]:\n",
    "    print(row)\n",
    "    print('\\n')"
   ]
  },
  {
   "cell_type": "markdown",
   "id": "e2ad5d52",
   "metadata": {},
   "source": [
    "### Removing Headers from a List of Lists"
   ]
  },
  {
   "cell_type": "code",
   "execution_count": 2,
   "id": "6066ee6f",
   "metadata": {},
   "outputs": [
    {
     "name": "stdout",
     "output_type": "stream",
     "text": [
      "['id', 'title', 'url', 'num_points', 'num_comments', 'author', 'created_at', 'samples']\n",
      "\n",
      "\n",
      "['11966167', 'UK votes to leave EU', 'http://www.bbc.co.uk/news/uk-politics-36615028', '3125', '2531', 'dmmalam', '6/24/2016 3:48', '1']\n",
      "\n",
      "\n",
      "['11814828', 'Ask HN: Who is hiring? (June 2016)', '', '644', '1007', 'whoishiring', '6/1/2016 15:01', '1']\n",
      "\n",
      "\n",
      "['11611867', 'Ask HN: Who is hiring? (May 2016)', '', '553', '937', 'whoishiring', '5/2/2016 15:01', '1']\n",
      "\n",
      "\n",
      "['11939851', 'Alan Kay has agreed to do an AMA today', '', '1401', '893', 'alankay1', '6/20/2016 18:04', '1']\n",
      "\n",
      "\n",
      "['10192711', 'Apple Unveils the iPad Pro', 'http://techcrunch.com/2015/09/09/apple-unveils-the-ipad-pro/', '446', '842', 'salimmadjd', '9/9/2015 17:22', '1']\n",
      "\n",
      "\n"
     ]
    }
   ],
   "source": [
    "headers = hn[0]\n",
    "hn = hn[1:]\n",
    "print(headers)\n",
    "print('\\n')\n",
    "for row in hn[:5]:\n",
    "    print(row)\n",
    "    print('\\n')"
   ]
  },
  {
   "cell_type": "markdown",
   "id": "fc04fb26",
   "metadata": {},
   "source": [
    "We can see above that the data set contains the title of the posts, the number of comments for each post, and the date the post was created. Let's start by exploring the number of comments for each type of post."
   ]
  },
  {
   "cell_type": "markdown",
   "id": "6e61b3bd",
   "metadata": {},
   "source": [
    "### Extracting Ask HN and Show HN Posts\n",
    "\n",
    "First, we'll identify posts that begin with either Ask HN or Show HN and separate the data for those two types of posts into different lists. Separating the data makes it easier to analyze in the following steps."
   ]
  },
  {
   "cell_type": "code",
   "execution_count": 3,
   "id": "9dcac72b",
   "metadata": {},
   "outputs": [
    {
     "name": "stdout",
     "output_type": "stream",
     "text": [
      "1793\n",
      "1248\n",
      "17060\n"
     ]
    }
   ],
   "source": [
    "ask_posts = []\n",
    "show_posts =[]\n",
    "other_posts = []\n",
    "\n",
    "for post in hn:\n",
    "    title = post[1]\n",
    "    if title.lower().startswith(\"ask hn\"):\n",
    "        ask_posts.append(post)\n",
    "    elif title.lower().startswith(\"show hn\"):\n",
    "        show_posts.append(post)\n",
    "    else:\n",
    "        other_posts.append(post)\n",
    "        \n",
    "print(len(ask_posts))\n",
    "print(len(show_posts))\n",
    "print(len(other_posts))"
   ]
  },
  {
   "cell_type": "markdown",
   "id": "69051991",
   "metadata": {},
   "source": [
    "### Calculating the Average Number of Comments for Ask HN and Show HN Posts\n",
    "\n",
    "Now that we separated ask posts and show posts into different lists, we'll calculate the average number of comments each type of post receives."
   ]
  },
  {
   "cell_type": "code",
   "execution_count": 4,
   "id": "2543b057",
   "metadata": {},
   "outputs": [
    {
     "name": "stdout",
     "output_type": "stream",
     "text": [
      "14.35415504740658\n"
     ]
    }
   ],
   "source": [
    "total_ask_comments = 0\n",
    "\n",
    "for post in ask_posts:\n",
    "    total_ask_comments += int(post[4])\n",
    "    \n",
    "avg_ask_comments = total_ask_comments / len(ask_posts)\n",
    "print(avg_ask_comments)"
   ]
  },
  {
   "cell_type": "code",
   "execution_count": 5,
   "id": "e2838a4f",
   "metadata": {},
   "outputs": [
    {
     "name": "stdout",
     "output_type": "stream",
     "text": [
      "9.393429487179487\n"
     ]
    }
   ],
   "source": [
    "total_show_comments = 0\n",
    "\n",
    "for post in show_posts:\n",
    "    total_show_comments += int(post[4])\n",
    "    \n",
    "avg_show_comments = total_show_comments / len(show_posts)\n",
    "print(avg_show_comments)"
   ]
  },
  {
   "cell_type": "markdown",
   "id": "a458b4e0",
   "metadata": {},
   "source": [
    "On average, ask posts in our sample receive approximately 14 comments, whereas show posts receive approximately 10. Since ask posts are more likely to receive comments, we'll focus our remaining analysis just on these posts."
   ]
  },
  {
   "cell_type": "markdown",
   "id": "48a43222",
   "metadata": {},
   "source": [
    "### Finding the Amount of Ask Posts and Comments by Hour Created\n",
    "\n",
    "Next, we'll determine if we can maximize the amount of comments an ask post receives by creating it at a certain time. First, we'll find the amount of ask posts created during each hour of day, along with the number of comments those posts received. Then, we'll calculate the average amount of comments ask posts created at each hour of the day receive."
   ]
  },
  {
   "cell_type": "code",
   "execution_count": 6,
   "id": "5df0c444",
   "metadata": {},
   "outputs": [
    {
     "data": {
      "text/plain": [
       "{'15': 3873,\n",
       " '16': 1667,\n",
       " '04': 1187,\n",
       " '12': 1979,\n",
       " '18': 1387,\n",
       " '21': 1000,\n",
       " '22': 1189,\n",
       " '13': 2283,\n",
       " '17': 1168,\n",
       " '01': 692,\n",
       " '11': 1075,\n",
       " '00': 742,\n",
       " '08': 677,\n",
       " '03': 873,\n",
       " '19': 1055,\n",
       " '14': 1187,\n",
       " '09': 303,\n",
       " '10': 460,\n",
       " '20': 707,\n",
       " '06': 555,\n",
       " '05': 353,\n",
       " '23': 655,\n",
       " '07': 303,\n",
       " '02': 367}"
      ]
     },
     "execution_count": 6,
     "metadata": {},
     "output_type": "execute_result"
    }
   ],
   "source": [
    "import datetime as dt\n",
    "result_list = []    # a list will be filled with the date and the comment number\n",
    "\n",
    "for row in ask_posts:\n",
    "    append_list = [row[6], int(row[4])]\n",
    "    result_list.append(append_list)\n",
    "\n",
    "counts_by_hour = {}\n",
    "comments_by_hour = {}\n",
    "date_format = '%m/%d/%Y %H:%M'\n",
    "\n",
    "for row in result_list:\n",
    "    date = row[0]\n",
    "    comment = row[1]\n",
    "    time = dt.datetime.strptime(date, date_format).strftime(\"%H\")\n",
    "    if time in counts_by_hour:\n",
    "        comments_by_hour[time] += comment\n",
    "        counts_by_hour[time] += 1\n",
    "    else:\n",
    "        comments_by_hour[time] = comment\n",
    "        counts_by_hour[time] = 1\n",
    "        \n",
    "comments_by_hour"
   ]
  },
  {
   "cell_type": "markdown",
   "id": "83e535dd",
   "metadata": {},
   "source": [
    "### Calculating the Average Number of Comments for Ask HN Posts by Hour"
   ]
  },
  {
   "cell_type": "code",
   "execution_count": 7,
   "id": "d6fb1876",
   "metadata": {},
   "outputs": [
    {
     "data": {
      "text/plain": [
       "[['15', 32.82203389830509],\n",
       " ['16', 16.028846153846153],\n",
       " ['04', 28.261904761904763],\n",
       " ['12', 24.134146341463413],\n",
       " ['18', 11.462809917355372],\n",
       " ['21', 10.204081632653061],\n",
       " ['22', 15.441558441558442],\n",
       " ['13', 25.366666666666667],\n",
       " ['17', 12.695652173913043],\n",
       " ['01', 14.122448979591837],\n",
       " ['11', 14.144736842105264],\n",
       " ['00', 12.576271186440678],\n",
       " ['08', 15.044444444444444],\n",
       " ['03', 15.051724137931034],\n",
       " ['19', 9.173913043478262],\n",
       " ['14', 11.752475247524753],\n",
       " ['09', 6.886363636363637],\n",
       " ['10', 8.214285714285714],\n",
       " ['20', 7.769230769230769],\n",
       " ['06', 12.065217391304348],\n",
       " ['05', 7.844444444444444],\n",
       " ['23', 8.291139240506329],\n",
       " ['07', 6.733333333333333],\n",
       " ['02', 6.116666666666666]]"
      ]
     },
     "execution_count": 7,
     "metadata": {},
     "output_type": "execute_result"
    }
   ],
   "source": [
    "avg_by_hour = []\n",
    "\n",
    "for hr in comments_by_hour:\n",
    "    avg_by_hour.append([hr, comments_by_hour[hr] / counts_by_hour[hr]])\n",
    "\n",
    "avg_by_hour"
   ]
  },
  {
   "cell_type": "markdown",
   "id": "9d4594e1",
   "metadata": {},
   "source": [
    "### Sorting and Printing Values from a List of Lists"
   ]
  },
  {
   "cell_type": "code",
   "execution_count": 8,
   "id": "b7f390ce",
   "metadata": {},
   "outputs": [
    {
     "name": "stdout",
     "output_type": "stream",
     "text": [
      "[[32.82203389830509, '15'], [16.028846153846153, '16'], [28.261904761904763, '04'], [24.134146341463413, '12'], [11.462809917355372, '18'], [10.204081632653061, '21'], [15.441558441558442, '22'], [25.366666666666667, '13'], [12.695652173913043, '17'], [14.122448979591837, '01'], [14.144736842105264, '11'], [12.576271186440678, '00'], [15.044444444444444, '08'], [15.051724137931034, '03'], [9.173913043478262, '19'], [11.752475247524753, '14'], [6.886363636363637, '09'], [8.214285714285714, '10'], [7.769230769230769, '20'], [12.065217391304348, '06'], [7.844444444444444, '05'], [8.291139240506329, '23'], [6.733333333333333, '07'], [6.116666666666666, '02']]\n"
     ]
    },
    {
     "data": {
      "text/plain": [
       "[[32.82203389830509, '15'],\n",
       " [28.261904761904763, '04'],\n",
       " [25.366666666666667, '13'],\n",
       " [24.134146341463413, '12'],\n",
       " [16.028846153846153, '16'],\n",
       " [15.441558441558442, '22'],\n",
       " [15.051724137931034, '03'],\n",
       " [15.044444444444444, '08'],\n",
       " [14.144736842105264, '11'],\n",
       " [14.122448979591837, '01'],\n",
       " [12.695652173913043, '17'],\n",
       " [12.576271186440678, '00'],\n",
       " [12.065217391304348, '06'],\n",
       " [11.752475247524753, '14'],\n",
       " [11.462809917355372, '18'],\n",
       " [10.204081632653061, '21'],\n",
       " [9.173913043478262, '19'],\n",
       " [8.291139240506329, '23'],\n",
       " [8.214285714285714, '10'],\n",
       " [7.844444444444444, '05'],\n",
       " [7.769230769230769, '20'],\n",
       " [6.886363636363637, '09'],\n",
       " [6.733333333333333, '07'],\n",
       " [6.116666666666666, '02']]"
      ]
     },
     "execution_count": 8,
     "metadata": {},
     "output_type": "execute_result"
    }
   ],
   "source": [
    "swap_avg_by_hour = []\n",
    "\n",
    "for row in avg_by_hour:\n",
    "    swap_avg_by_hour.append([row[1],row[0]])\n",
    "\n",
    "print(swap_avg_by_hour)\n",
    "\n",
    "sorted_swap = sorted(swap_avg_by_hour, reverse=True)\n",
    "\n",
    "sorted_swap"
   ]
  },
  {
   "cell_type": "code",
   "execution_count": 9,
   "id": "c0de02c3",
   "metadata": {},
   "outputs": [
    {
     "name": "stdout",
     "output_type": "stream",
     "text": [
      "Top 5 Hours for 'Ask HN' Comments:\n",
      "15:00: 32.82 average comments per post\n",
      "04:00: 28.26 average comments per post\n",
      "13:00: 25.37 average comments per post\n",
      "12:00: 24.13 average comments per post\n",
      "16:00: 16.03 average comments per post\n"
     ]
    }
   ],
   "source": [
    "# Sort the values and print the the 5 hours with the highest average comments.\n",
    "\n",
    "print(\"Top 5 Hours for 'Ask HN' Comments:\")\n",
    "for avg, hr in sorted_swap[:5]:\n",
    "    print(\n",
    "        \"{}: {:.2f} average comments per post\".format(\n",
    "            dt.datetime.strptime(hr, \"%H\").strftime(\"%H:%M\"),avg\n",
    "        )\n",
    "    )"
   ]
  },
  {
   "cell_type": "markdown",
   "id": "a079723f",
   "metadata": {},
   "source": [
    "The hour that receives the most comments per post on average is 15:00, with an average of 38.59 comments per post. There's about a 60% increase in the number of comments between the hours with the highest and second highest average number of comments.\n",
    "\n",
    "According to the data set documentation, the timezone used is Eastern Time in the US. So, we could also write 15:00 as 3:00 pm est."
   ]
  },
  {
   "cell_type": "markdown",
   "id": "6ab478c9",
   "metadata": {},
   "source": [
    "### Conclusion\n",
    "\n",
    "In this project, we analyzed ask posts and show posts to determine which type of post and time receive the most comments on average. Based on our analysis, to maximize the amount of comments a post receives, we'd recommend the post be categorized as ask post and created between 15:00 and 16:00."
   ]
  }
 ],
 "metadata": {
  "kernelspec": {
   "display_name": "Python 3",
   "language": "python",
   "name": "python3"
  },
  "language_info": {
   "codemirror_mode": {
    "name": "ipython",
    "version": 3
   },
   "file_extension": ".py",
   "mimetype": "text/x-python",
   "name": "python",
   "nbconvert_exporter": "python",
   "pygments_lexer": "ipython3",
   "version": "3.8.8"
  }
 },
 "nbformat": 4,
 "nbformat_minor": 5
}
